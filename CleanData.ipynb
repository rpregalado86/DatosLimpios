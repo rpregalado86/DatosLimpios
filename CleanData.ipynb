{
  "nbformat": 4,
  "nbformat_minor": 0,
  "metadata": {
    "colab": {
      "name": "CleanData.ipynb",
      "provenance": [],
      "collapsed_sections": [],
      "authorship_tag": "ABX9TyNnxThYJ0RT/sSSgxSjuCOw",
      "include_colab_link": true
    },
    "kernelspec": {
      "name": "python3",
      "display_name": "Python 3"
    },
    "language_info": {
      "name": "python"
    }
  },
  "cells": [
    {
      "cell_type": "markdown",
      "metadata": {
        "id": "view-in-github",
        "colab_type": "text"
      },
      "source": [
        "<a href=\"https://colab.research.google.com/github/rpregalado86/DatosLimpios/blob/main/CleanData.ipynb\" target=\"_parent\"><img src=\"https://colab.research.google.com/assets/colab-badge.svg\" alt=\"Open In Colab\"/></a>"
      ]
    },
    {
      "cell_type": "code",
      "metadata": {
        "id": "EvgWyiYs-r5x"
      },
      "source": [
        "import numpy as np\n",
        "import pandas as pd\n",
        "import matplotlib.pyplot as plt\n",
        "import seaborn as sns\n",
        "from sklearn import preprocessing\n",
        "from sklearn.cluster import KMeans\n",
        "from sklearn.decomposition import PCA\n",
        "from sklearn.metrics import silhouette_score\n",
        "from sklearn.ensemble import ExtraTreesClassifier\n",
        "from sklearn.feature_selection import RFE\n",
        "from sklearn.feature_selection import SelectKBest\n",
        "from sklearn.feature_selection import f_classif\n",
        "from sklearn.model_selection import train_test_split\n",
        "from sklearn.preprocessing import scale\n",
        "%matplotlib inline"
      ],
      "execution_count": null,
      "outputs": []
    },
    {
      "cell_type": "code",
      "metadata": {
        "id": "oKYFzRAFBsvC",
        "colab": {
          "base_uri": "https://localhost:8080/"
        },
        "outputId": "24509273-53a6-4a5b-ea34-58b3986ae1bc"
      },
      "source": [
        "#Importar Data Set Original\n",
        "url='https://raw.githubusercontent.com/rpregalado86/DataSetOriginal/main/dataset.csv'\n",
        "dataOriginal=pd.read_csv(url,sep=';', encoding='latin-1')\n",
        "print(dataOriginal.head(10))"
      ],
      "execution_count": null,
      "outputs": [
        {
          "output_type": "stream",
          "text": [
            "   product_id  ... merchant_has_profile_picture\n",
            "0           1  ...                            0\n",
            "1           2  ...                            0\n",
            "2           3  ...                            0\n",
            "3           4  ...                            0\n",
            "4           5  ...                            0\n",
            "5           6  ...                            0\n",
            "6           7  ...                            1\n",
            "7           8  ...                            0\n",
            "8           9  ...                            0\n",
            "9          10  ...                            0\n",
            "\n",
            "[10 rows x 26 columns]\n"
          ],
          "name": "stdout"
        }
      ]
    },
    {
      "cell_type": "code",
      "metadata": {
        "id": "rJsfYPl0aRyJ",
        "colab": {
          "base_uri": "https://localhost:8080/"
        },
        "outputId": "d360b06b-3120-4b32-f9ab-fd4882f5d73d"
      },
      "source": [
        "#Obtener cantidad valores nulos\n",
        "dataOriginal.isnull().sum()[dataOriginal.isnull().sum() !=0]"
      ],
      "execution_count": null,
      "outputs": [
        {
          "output_type": "execute_result",
          "data": {
            "text/plain": [
              "product_color                  29\n",
              "product_variation_size_id      12\n",
              "has_urgency_banner           1040\n",
              "origin_country                 17\n",
              "merchant_info_subtitle          1\n",
              "dtype: int64"
            ]
          },
          "metadata": {
            "tags": []
          },
          "execution_count": 7
        }
      ]
    },
    {
      "cell_type": "code",
      "metadata": {
        "id": "WuvTDQgbHyZ7",
        "colab": {
          "base_uri": "https://localhost:8080/",
          "height": 390
        },
        "outputId": "4b327bb6-be8e-414f-e382-102cac862266"
      },
      "source": [
        "#Graficar cantidad de valores nulos\n",
        "def plot_missing_data(dataOriginal):\n",
        "    columns_with_null = dataOriginal.columns[dataOriginal.isna().sum() > 0]\n",
        "    null_pct = (dataOriginal[columns_with_null].isna().sum() / dataOriginal.shape[0]).sort_values(ascending=False) * 100\n",
        "    plt.figure(figsize=(8,6));\n",
        "    sns.barplot(y = null_pct.index, x = null_pct, orient='h')\n",
        "    plt.title('% Na values in dataframe by columns');\n",
        "\n",
        "plot_missing_data(dataOriginal)"
      ],
      "execution_count": null,
      "outputs": [
        {
          "output_type": "display_data",
          "data": {
            "image/png": "[encoded data removed]",
            "text/plain": [
              "<Figure size 576x432 with 1 Axes>"
            ]
          },
          "metadata": {
            "tags": [],
            "needs_background": "light"
          }
        }
      ]
    },
    {
      "cell_type": "code",
      "metadata": {
        "id": "CNufExvXf_Hr"
      },
      "source": [
        "#Exploracion atributos nombre - cantidad- tipo\n",
        "dataOriginal.info()"
      ],
      "execution_count": null,
      "outputs": []
    },
    {
      "cell_type": "code",
      "metadata": {
        "id": "vU4owTCvi4W3"
      },
      "source": [
        "#Descripcion de Data \n",
        "dataOriginal.describe()"
      ],
      "execution_count": null,
      "outputs": []
    },
    {
      "cell_type": "code",
      "metadata": {
        "id": "4OowD__CxvXX",
        "colab": {
          "base_uri": "https://localhost:8080/"
        },
        "outputId": "94fc589c-7a19-4561-cdee-a2280d03784e"
      },
      "source": [
        "#Agrupar atributos por tipo de dato\n",
        "typeData = dataOriginal.columns.to_series().groupby(dataOriginal.dtypes).groups\n",
        "dataObject = typeData[np.dtype('object')]\n",
        "dataFloat = typeData[np.dtype('float64')]\n",
        "dataInt = typeData[np.dtype('int64')]\n",
        "print(dataObject)\n",
        "print(dataFloat)\n",
        "print(dataInt)"
      ],
      "execution_count": null,
      "outputs": [
        {
          "output_type": "stream",
          "text": [
            "Index(['price', 'tags', 'product_color', 'product_variation_size_id',\n",
            "       'origin_country', 'merchant_title', 'merchant_info_subtitle',\n",
            "       'merchant_rating'],\n",
            "      dtype='object')\n",
            "Index(['rating', 'has_urgency_banner'], dtype='object')\n",
            "Index(['product_id', 'retail_price', 'units_sold', 'uses_ad_boosts',\n",
            "       'rating_count', 'badges_count', 'badge_local_product',\n",
            "       'badge_product_quality', 'badge_fast_shipping',\n",
            "       'product_variation_inventory', 'shipping_option_price',\n",
            "       'shipping_is_express', 'countries_shipped_to', 'inventory_total',\n",
            "       'merchant_rating_count', 'merchant_has_profile_picture'],\n",
            "      dtype='object')\n"
          ],
          "name": "stdout"
        }
      ]
    },
    {
      "cell_type": "code",
      "metadata": {
        "id": "I4447VanY8BV"
      },
      "source": [
        "#Verificar registros duplicados\n",
        "dup=dataOriginal.duplicated()\n",
        "print(dup)"
      ],
      "execution_count": null,
      "outputs": []
    },
    {
      "cell_type": "code",
      "metadata": {
        "id": "IJUoIxOcdYfy"
      },
      "source": [
        "#Tratamiento de atributo price\n",
        "dataOriginal['price'] = pd.to_numeric(dataOriginal['price'],errors = 'coerce')\n",
        "#Llenado de valores nulos con la media aritmética\n",
        "dataOriginal['price'] = dataOriginal['price'].fillna(dataOriginal['price'].mean())\n",
        "dataOriginal['price'] = pd.Series([round(val,2) for val in dataOriginal['price']]) "
      ],
      "execution_count": null,
      "outputs": []
    },
    {
      "cell_type": "code",
      "metadata": {
        "id": "LWI6d8Xn-186"
      },
      "source": [
        "#Crear categorias de ropa Wish\n",
        "df_cat = pd.DataFrame()\n",
        "df_cat['categoria'] = ['underwear','long skirt','shoes','slippers','sandals','beach shorts',\n",
        "                       'dyes', 'robes','print dress','bras','lace dress','trousers','skirts',\n",
        "                       'dresses','swimsuit','bikini','slim','vest','pants','blouse','t shirts',\n",
        "                       'shirt','tops','shorts']"
      ],
      "execution_count": null,
      "outputs": []
    },
    {
      "cell_type": "code",
      "metadata": {
        "id": "en10JM0UNUkW",
        "colab": {
          "base_uri": "https://localhost:8080/"
        },
        "outputId": "ede9ef18-b1ab-4a89-bebb-a71426f26d4e"
      },
      "source": [
        "#Tratamiento atributo tags en base a solo las principales categorias\n",
        "dataOriginal['tags'] = dataOriginal['tags'].str.lower()\n",
        "dataOriginal['tags'] = dataOriginal['tags'].str.strip()\n",
        "for i in range(len(dataOriginal)):\n",
        "  for j in range(len(df_cat)):\n",
        "      buscar=df_cat['categoria'][j]\n",
        "      aux=dataOriginal['tags'][i].find(buscar)\n",
        "      if aux != -1:\n",
        "          dataOriginal['tags'][i]=buscar\n",
        "          break\n",
        "for i in range(len(dataOriginal)):\n",
        "  aux=dataOriginal['tags'][i].find('/')\n",
        "  if aux != -1:\n",
        "      dataOriginal['tags'][i]=None\n",
        "modeCat = dataOriginal['tags'].mode()[0]\n",
        "dataOriginal['tags'] = dataOriginal['tags'].fillna(modeCat)\n"
      ],
      "execution_count": null,
      "outputs": [
        {
          "output_type": "stream",
          "text": [
            "/usr/local/lib/python3.7/dist-packages/ipykernel_launcher.py:9: SettingWithCopyWarning: \n",
            "A value is trying to be set on a copy of a slice from a DataFrame\n",
            "\n",
            "See the caveats in the documentation: https://pandas.pydata.org/pandas-docs/stable/user_guide/indexing.html#returning-a-view-versus-a-copy\n",
            "  if __name__ == '__main__':\n",
            "/usr/local/lib/python3.7/dist-packages/ipykernel_launcher.py:14: SettingWithCopyWarning: \n",
            "A value is trying to be set on a copy of a slice from a DataFrame\n",
            "\n",
            "See the caveats in the documentation: https://pandas.pydata.org/pandas-docs/stable/user_guide/indexing.html#returning-a-view-versus-a-copy\n",
            "  \n"
          ],
          "name": "stderr"
        }
      ]
    },
    {
      "cell_type": "code",
      "metadata": {
        "id": "E1zIg8LLmyZG"
      },
      "source": [
        "#Crear coloress de ropa Wish\n",
        "df_colors = pd.DataFrame()\n",
        "df_colors['colors'] = ['black','white','pink','yellow','blue','red','green', 'grey','purple','orange','beige','khaki','coffee','brown']"
      ],
      "execution_count": null,
      "outputs": []
    },
    {
      "cell_type": "code",
      "metadata": {
        "id": "4RlyjTCRqku9"
      },
      "source": [
        "df_colors.info()"
      ],
      "execution_count": null,
      "outputs": []
    },
    {
      "cell_type": "code",
      "metadata": {
        "id": "bXba0f8oo9y9",
        "colab": {
          "base_uri": "https://localhost:8080/"
        },
        "outputId": "baf00155-185b-48db-8c44-dd743933c045"
      },
      "source": [
        "#Tratamiento atributo product_color en base a solo las principales categorias\n",
        "dataOriginal['product_color'] = dataOriginal['product_color'].str.lower()\n",
        "dataOriginal['product_color'] = dataOriginal['product_color'].str.strip()\n",
        "modeColor = dataOriginal['product_color'].mode()[0]\n",
        "dataOriginal['product_color'] = dataOriginal['product_color'].fillna(modeColor)\n",
        "\n",
        "for i in range(len(dataOriginal)):\n",
        "  for j in range(len(df_colors)):\n",
        "      buscar=df_colors['colors'][j]\n",
        "      aux=dataOriginal['product_color'][i].find(buscar)     \n",
        "      if aux != -1:\n",
        "          dataOriginal['product_color'][i]=buscar\n",
        "          break\n",
        "      else:\n",
        "        if j==13:\n",
        "          dataOriginal['product_color'][i]='others'"
      ],
      "execution_count": null,
      "outputs": [
        {
          "output_type": "stream",
          "text": [
            "/usr/local/lib/python3.7/dist-packages/ipykernel_launcher.py:12: SettingWithCopyWarning: \n",
            "A value is trying to be set on a copy of a slice from a DataFrame\n",
            "\n",
            "See the caveats in the documentation: https://pandas.pydata.org/pandas-docs/stable/user_guide/indexing.html#returning-a-view-versus-a-copy\n",
            "  if sys.path[0] == '':\n",
            "/usr/local/lib/python3.7/dist-packages/ipykernel_launcher.py:16: SettingWithCopyWarning: \n",
            "A value is trying to be set on a copy of a slice from a DataFrame\n",
            "\n",
            "See the caveats in the documentation: https://pandas.pydata.org/pandas-docs/stable/user_guide/indexing.html#returning-a-view-versus-a-copy\n",
            "  app.launch_new_instance()\n"
          ],
          "name": "stderr"
        }
      ]
    },
    {
      "cell_type": "code",
      "metadata": {
        "id": "BsMRHEF2v-Vx"
      },
      "source": [
        "#Crear categorias de tallas\n",
        "df_size = pd.DataFrame()\n",
        "df_size['size'] = ['xs','xl','l','m','s']"
      ],
      "execution_count": null,
      "outputs": []
    },
    {
      "cell_type": "code",
      "metadata": {
        "id": "D-Efdzkk2u4s",
        "colab": {
          "base_uri": "https://localhost:8080/"
        },
        "outputId": "5e75beaf-6f9a-4d03-ee2e-3db12a4728e7"
      },
      "source": [
        "#Tratamiento atributo product_variation_size_id en base a solo las principales categorias\n",
        "dataOriginal['product_variation_size_id'] = dataOriginal['product_variation_size_id'].str.lower()\n",
        "dataOriginal['product_variation_size_id'] = dataOriginal['product_variation_size_id'].str.strip()\n",
        "modeSize = dataOriginal['product_variation_size_id'].mode()[0]\n",
        "dataOriginal['product_variation_size_id'] = dataOriginal['product_variation_size_id'].fillna(modeSize)\n",
        "print(len(df_size))\n",
        "for i in range(len(dataOriginal)):\n",
        "  for j in range(len(df_size)):\n",
        "      buscar=df_size['size'][j]\n",
        "      aux=dataOriginal['product_variation_size_id'][i].find(buscar)     \n",
        "      if aux != -1:\n",
        "          dataOriginal['product_variation_size_id'][i]=buscar\n",
        "          break\n",
        "      else:\n",
        "        if j==4:\n",
        "          dataOriginal['product_variation_size_id'][i]='others'"
      ],
      "execution_count": null,
      "outputs": [
        {
          "output_type": "stream",
          "text": [
            "5\n"
          ],
          "name": "stdout"
        },
        {
          "output_type": "stream",
          "text": [
            "/usr/local/lib/python3.7/dist-packages/ipykernel_launcher.py:12: SettingWithCopyWarning: \n",
            "A value is trying to be set on a copy of a slice from a DataFrame\n",
            "\n",
            "See the caveats in the documentation: https://pandas.pydata.org/pandas-docs/stable/user_guide/indexing.html#returning-a-view-versus-a-copy\n",
            "  if sys.path[0] == '':\n",
            "/usr/local/lib/python3.7/dist-packages/ipykernel_launcher.py:16: SettingWithCopyWarning: \n",
            "A value is trying to be set on a copy of a slice from a DataFrame\n",
            "\n",
            "See the caveats in the documentation: https://pandas.pydata.org/pandas-docs/stable/user_guide/indexing.html#returning-a-view-versus-a-copy\n",
            "  app.launch_new_instance()\n"
          ],
          "name": "stderr"
        }
      ]
    },
    {
      "cell_type": "code",
      "metadata": {
        "id": "lCBhLA4_4sZO"
      },
      "source": [
        "#Procesamiento atributo has_urgency_banner\n",
        "dataOriginal['has_urgency_banner'] = dataOriginal['has_urgency_banner'].fillna('0')\n",
        "dataOriginal['has_urgency_banner'] = pd.to_numeric(dataOriginal['has_urgency_banner'],errors = 'coerce')\n",
        "#Procesamiento atributo origin_country\n",
        "modeCountry = dataOriginal['origin_country'].mode()[0]\n",
        "dataOriginal['origin_country'] = dataOriginal['origin_country'].fillna(modeCountry)\n"
      ],
      "execution_count": null,
      "outputs": []
    },
    {
      "cell_type": "code",
      "metadata": {
        "id": "Exy_lXKAf0mj",
        "colab": {
          "base_uri": "https://localhost:8080/"
        },
        "outputId": "ca355254-9ecf-4372-e24a-507e993aa4bd"
      },
      "source": [
        "#Procesamiento del atributo merchant_rating\n",
        "for i in range(len(dataOriginal)):\n",
        "  dato=dataOriginal['merchant_rating'][i]\n",
        "  if len(dato) < 21:\n",
        "    dat=dataOriginal['merchant_rating'][i]\n",
        "    dat='0.'+dat\n",
        "    dataOriginal['merchant_rating'][i]=dat\n",
        "#Dejar con dos decimales\n",
        "for i in range(len(dataOriginal)):\n",
        "  dat=dataOriginal['merchant_rating'][i]\n",
        "  dat=dat[:dat.index('.')+3]\n",
        "  dataOriginal['merchant_rating'][i]=dat\n",
        "\n",
        "#Coversión object a float64\n",
        "dataOriginal['merchant_rating'] = pd.to_numeric(dataOriginal['merchant_rating'],errors = 'coerce')\n",
        "modeMer = dataOriginal['merchant_rating'].mode()[0]\n",
        "dataOriginal['merchant_rating'] = dataOriginal['merchant_rating'].fillna(modeMer)"
      ],
      "execution_count": null,
      "outputs": [
        {
          "output_type": "stream",
          "text": [
            "/usr/local/lib/python3.7/dist-packages/ipykernel_launcher.py:7: SettingWithCopyWarning: \n",
            "A value is trying to be set on a copy of a slice from a DataFrame\n",
            "\n",
            "See the caveats in the documentation: https://pandas.pydata.org/pandas-docs/stable/user_guide/indexing.html#returning-a-view-versus-a-copy\n",
            "  import sys\n",
            "/usr/local/lib/python3.7/dist-packages/ipykernel_launcher.py:12: SettingWithCopyWarning: \n",
            "A value is trying to be set on a copy of a slice from a DataFrame\n",
            "\n",
            "See the caveats in the documentation: https://pandas.pydata.org/pandas-docs/stable/user_guide/indexing.html#returning-a-view-versus-a-copy\n",
            "  if sys.path[0] == '':\n"
          ],
          "name": "stderr"
        }
      ]
    },
    {
      "cell_type": "code",
      "metadata": {
        "id": "XCOS-yLm6Qs3"
      },
      "source": [
        "#Procesamiento atributo merchant_info_subtitle\n",
        "modeMer = dataOriginal['merchant_info_subtitle'].mode()[0]\n",
        "dataOriginal['merchant_info_subtitle'] = dataOriginal['merchant_info_subtitle'].fillna(modeMer)\n",
        "dataOriginal['merchant_info_subtitle'] = dataOriginal['merchant_info_subtitle'].str.lower()\n",
        "dataOriginal['merchant_info_subtitle'] = dataOriginal['merchant_info_subtitle'].str.strip()\n",
        "#Se quita todo el texto desde el caracter %\n",
        "dataOriginal['merchant_info_subtitle']=dataOriginal['merchant_info_subtitle'].replace(to_replace=r'.\\%.+\\)$', value='', regex=True)\n",
        "#Convercion de una tributo object a numérico\n",
        "dataOriginal['merchant_info_subtitle'] = pd.to_numeric(dataOriginal['merchant_info_subtitle'],errors = 'coerce')\n",
        "#Llenado de valores nulos con la media aritmética\n",
        "dataOriginal['merchant_info_subtitle'] = dataOriginal['merchant_info_subtitle'].fillna(dataOriginal['merchant_info_subtitle'].mean())\n",
        "dataOriginal['merchant_info_subtitle'] = pd.Series([round(val,2) for val in dataOriginal['merchant_info_subtitle']]) "
      ],
      "execution_count": null,
      "outputs": []
    },
    {
      "cell_type": "code",
      "metadata": {
        "id": "fuuJJU3CJRfh",
        "colab": {
          "base_uri": "https://localhost:8080/"
        },
        "outputId": "6f459923-18cd-4cc1-ceb2-b7f173026438"
      },
      "source": [
        "#Valores unicos \n",
        "sorted(dataOriginal['tags'].unique())"
      ],
      "execution_count": null,
      "outputs": [
        {
          "output_type": "execute_result",
          "data": {
            "text/plain": [
              "['beach shorts',\n",
              " 'bikini',\n",
              " 'blouse',\n",
              " 'bras',\n",
              " 'dresses',\n",
              " 'dyes',\n",
              " 'lace dress',\n",
              " 'long skirt',\n",
              " 'pants',\n",
              " 'print dress',\n",
              " 'robes',\n",
              " 'shirt',\n",
              " 'shoes',\n",
              " 'shorts',\n",
              " 'skirts',\n",
              " 'slim',\n",
              " 'swimsuit',\n",
              " 't shirts',\n",
              " 'tops',\n",
              " 'trousers',\n",
              " 'underwear',\n",
              " 'vest']"
            ]
          },
          "metadata": {
            "tags": []
          },
          "execution_count": 20
        }
      ]
    },
    {
      "cell_type": "code",
      "metadata": {
        "id": "Ytvw2I-rj35e",
        "colab": {
          "base_uri": "https://localhost:8080/"
        },
        "outputId": "49ba1369-9354-46d2-e89f-9e1d2e841167"
      },
      "source": [
        "#Cantidades por grupos\n",
        "count = dataOriginal['product_color'].value_counts()\n",
        "print(count[:30])"
      ],
      "execution_count": null,
      "outputs": [
        {
          "output_type": "stream",
          "text": [
            "black     343\n",
            "white     267\n",
            "blue      155\n",
            "red       136\n",
            "green     132\n",
            "pink      112\n",
            "yellow     99\n",
            "grey       69\n",
            "others     69\n",
            "purple     50\n",
            "orange     28\n",
            "beige      12\n",
            "khaki      11\n",
            "brown       7\n",
            "coffee      7\n",
            "Name: product_color, dtype: int64\n"
          ],
          "name": "stdout"
        }
      ]
    },
    {
      "cell_type": "code",
      "metadata": {
        "id": "g8c6EF0iQ2ER",
        "colab": {
          "base_uri": "https://localhost:8080/"
        },
        "outputId": "ce4d18d1-808e-4ee3-d041-d55f96dac784"
      },
      "source": [
        "#Ver primoros 30 registros de los atributos indicados\n",
        "print(dataOriginal[['product_id','merchant_rating']].head(30)) "
      ],
      "execution_count": null,
      "outputs": [
        {
          "output_type": "stream",
          "text": [
            "    product_id  merchant_rating\n",
            "0            1             4.12\n",
            "1            2            38.99\n",
            "2            3             3.98\n",
            "3            4             4.02\n",
            "4            5             4.00\n",
            "5            6            35.07\n",
            "6            7             4.07\n",
            "7            8             3.68\n",
            "8            9             3.80\n",
            "9           10             3.99\n",
            "10          11            39.56\n",
            "11          12             3.98\n",
            "12          13             4.12\n",
            "13          14            39.47\n",
            "14          15             4.13\n",
            "15          16             4.06\n",
            "16          17             3.95\n",
            "17          18             3.93\n",
            "18          19             4.08\n",
            "19          20             4.06\n",
            "20          21             4.25\n",
            "21          22            39.81\n",
            "22          23             4.23\n",
            "23          24             4.26\n",
            "24          25             4.00\n",
            "25          26            41.10\n",
            "26          27             0.42\n",
            "27          28             4.01\n",
            "28          29             3.83\n",
            "29          30             4.06\n"
          ],
          "name": "stdout"
        }
      ]
    },
    {
      "cell_type": "code",
      "metadata": {
        "id": "0FDjHCCJFYPd"
      },
      "source": [
        "from sklearn.model_selection import train_test_split \n",
        "#Separación Data Set Train - Test (80%-20%)\n",
        "train, test = train_test_split(dataOriginal, test_size = 0.20,random_state = 45)\n",
        "dataTrain = pd.DataFrame(train,columns=dataOriginal.columns.tolist())\n",
        "dataTest = pd.DataFrame(test,columns=dataOriginal.columns.tolist())"
      ],
      "execution_count": null,
      "outputs": []
    },
    {
      "cell_type": "code",
      "metadata": {
        "id": "i0Y6tspGt1lT"
      },
      "source": [
        "#Separar Data Set Entrenamoento y Test\n",
        "yWork = dataOriginal['units_sold']\n",
        "XWork = dataOriginal.drop(['units_sold'], axis=1)\n",
        "X_train, X_test, y_train, y_test = train_test_split(XWork, yWork, test_size=0.2, random_state=45)\n",
        "columnaY=['units_sold']\n",
        "dataX_train = pd.DataFrame(X_train,columns=XWork.columns.tolist())\n",
        "dataX_test = pd.DataFrame(X_test,columns=XWork.columns.tolist())\n",
        "datay_train = pd.DataFrame(y_train,columns=columnaY)\n",
        "datay_test = pd.DataFrame(y_train,columns=columnaY)\n",
        "dataGraficar = pd.DataFrame(X_train,columns=XWork.columns.tolist())"
      ],
      "execution_count": null,
      "outputs": []
    },
    {
      "cell_type": "code",
      "metadata": {
        "id": "6MOfAdz4Gd4d"
      },
      "source": [
        "print(dataTrain.head(30)) "
      ],
      "execution_count": null,
      "outputs": []
    },
    {
      "cell_type": "code",
      "metadata": {
        "id": "zC4PjuCugboq"
      },
      "source": [
        "print(dataOriginal.shape)\n",
        "print(dataTrain.shape)\n",
        "print(dataTest.shape)\n",
        "print(dataTrain.head(30))"
      ],
      "execution_count": null,
      "outputs": []
    },
    {
      "cell_type": "code",
      "metadata": {
        "id": "dXr4btDuetXS"
      },
      "source": [
        "dataClean = pd.DataFrame(dataOriginal,columns=dataOriginal.columns.tolist())"
      ],
      "execution_count": null,
      "outputs": []
    },
    {
      "cell_type": "code",
      "metadata": {
        "colab": {
          "base_uri": "https://localhost:8080/"
        },
        "id": "1iS4aciPdFST",
        "outputId": "ea6bdddf-5a6a-4146-fe49-c180ab99605d"
      },
      "source": [
        "print(dataClean['tags'].head(30))"
      ],
      "execution_count": null,
      "outputs": [
        {
          "output_type": "stream",
          "text": [
            "0     underwear\n",
            "1       dresses\n",
            "2      swimsuit\n",
            "3      t shirts\n",
            "4         pants\n",
            "5       dresses\n",
            "6        blouse\n",
            "7       dresses\n",
            "8          slim\n",
            "9        blouse\n",
            "10      dresses\n",
            "11       blouse\n",
            "12        pants\n",
            "13         vest\n",
            "14         tops\n",
            "15     t shirts\n",
            "16      dresses\n",
            "17       blouse\n",
            "18         vest\n",
            "19         slim\n",
            "20     swimsuit\n",
            "21         slim\n",
            "22         vest\n",
            "23         slim\n",
            "24         vest\n",
            "25         slim\n",
            "26     swimsuit\n",
            "27         slim\n",
            "28         slim\n",
            "29         slim\n",
            "Name: tags, dtype: object\n"
          ],
          "name": "stdout"
        }
      ]
    },
    {
      "cell_type": "code",
      "metadata": {
        "id": "uAmpVZq3I7CI",
        "colab": {
          "base_uri": "https://localhost:8080/",
          "height": 231
        },
        "outputId": "ef45a610-6e72-476b-9b91-21949e5333c5"
      },
      "source": [
        "#Coverción categorias a valor numérico dataTrain \n",
        "tiposData = dataClean.columns.to_series().groupby(dataClean.dtypes).groups\n",
        "dataObject = tiposData[np.dtype('object')]\n",
        "if len(dataObject) != 0:\n",
        "  for i in dataObject:\n",
        "    dataClean[i], _ = pd.factorize(dataClean[i])"
      ],
      "execution_count": null,
      "outputs": [
        {
          "output_type": "error",
          "ename": "KeyError",
          "evalue": "ignored",
          "traceback": [
            "\u001b[0;31m---------------------------------------------------------------------------\u001b[0m",
            "\u001b[0;31mKeyError\u001b[0m                                  Traceback (most recent call last)",
            "\u001b[0;32m<ipython-input-30-16789bd43e0a>\u001b[0m in \u001b[0;36m<module>\u001b[0;34m()\u001b[0m\n\u001b[1;32m      1\u001b[0m \u001b[0;31m#Coverción categorias a valor numérico dataTrain\u001b[0m\u001b[0;34m\u001b[0m\u001b[0;34m\u001b[0m\u001b[0;34m\u001b[0m\u001b[0m\n\u001b[1;32m      2\u001b[0m \u001b[0mtiposData\u001b[0m \u001b[0;34m=\u001b[0m \u001b[0mdataClean\u001b[0m\u001b[0;34m.\u001b[0m\u001b[0mcolumns\u001b[0m\u001b[0;34m.\u001b[0m\u001b[0mto_series\u001b[0m\u001b[0;34m(\u001b[0m\u001b[0;34m)\u001b[0m\u001b[0;34m.\u001b[0m\u001b[0mgroupby\u001b[0m\u001b[0;34m(\u001b[0m\u001b[0mdataClean\u001b[0m\u001b[0;34m.\u001b[0m\u001b[0mdtypes\u001b[0m\u001b[0;34m)\u001b[0m\u001b[0;34m.\u001b[0m\u001b[0mgroups\u001b[0m\u001b[0;34m\u001b[0m\u001b[0;34m\u001b[0m\u001b[0m\n\u001b[0;32m----> 3\u001b[0;31m \u001b[0mdataObject\u001b[0m \u001b[0;34m=\u001b[0m \u001b[0mtiposData\u001b[0m\u001b[0;34m[\u001b[0m\u001b[0mnp\u001b[0m\u001b[0;34m.\u001b[0m\u001b[0mdtype\u001b[0m\u001b[0;34m(\u001b[0m\u001b[0;34m'object'\u001b[0m\u001b[0;34m)\u001b[0m\u001b[0;34m]\u001b[0m\u001b[0;34m\u001b[0m\u001b[0;34m\u001b[0m\u001b[0m\n\u001b[0m\u001b[1;32m      4\u001b[0m \u001b[0;32mif\u001b[0m \u001b[0mlen\u001b[0m\u001b[0;34m(\u001b[0m\u001b[0mdataObject\u001b[0m\u001b[0;34m)\u001b[0m \u001b[0;34m!=\u001b[0m \u001b[0;36m0\u001b[0m\u001b[0;34m:\u001b[0m\u001b[0;34m\u001b[0m\u001b[0;34m\u001b[0m\u001b[0m\n\u001b[1;32m      5\u001b[0m   \u001b[0;32mfor\u001b[0m \u001b[0mi\u001b[0m \u001b[0;32min\u001b[0m \u001b[0mdataObject\u001b[0m\u001b[0;34m:\u001b[0m\u001b[0;34m\u001b[0m\u001b[0;34m\u001b[0m\u001b[0m\n",
            "\u001b[0;31mKeyError\u001b[0m: dtype('O')"
          ]
        }
      ]
    },
    {
      "cell_type": "code",
      "metadata": {
        "id": "1kCUeNn8J_Wa"
      },
      "source": [
        "#Se realiza el normalización de los datos \n",
        "from sklearn import preprocessing\n",
        "aux_normalizada = preprocessing.Normalizer().fit_transform(dataTrain)\n",
        "dataNormalizada = pd.DataFrame(aux_normalizada,columns=dataTrain.columns.tolist(), index = dataTrain.index)"
      ],
      "execution_count": null,
      "outputs": []
    },
    {
      "cell_type": "code",
      "metadata": {
        "id": "9xhBFBGn7jh2"
      },
      "source": [
        "# Escalado de las variables \n",
        "dataScaled = scale(X=dataTrain, axis=0, with_mean=True, with_std=True) \n",
        "dataScaled = pd.DataFrame(dataScaled, columns=dataTrain.columns, index=dataTrain.index)\n",
        "dataScaled.head(4)"
      ],
      "execution_count": null,
      "outputs": []
    },
    {
      "cell_type": "code",
      "metadata": {
        "id": "teGXoEvsJrQF"
      },
      "source": [
        "#Se realiza el escalamiento de los datos\n",
        "aux = dataTrain.values \n",
        "dfscaler = preprocessing.MinMaxScaler()\n",
        "aux_scaled = dfscaler.fit_transform(aux)\n",
        "dataEscalada = pd.DataFrame(aux_scaled,columns=dataTrain.columns.tolist(), index = dataTrain.index)"
      ],
      "execution_count": null,
      "outputs": []
    },
    {
      "cell_type": "code",
      "metadata": {
        "id": "J6MNYUPMF08H"
      },
      "source": [
        "# Correlation Heat Map Normalizada\n",
        "fig, ax = plt.subplots(figsize=(25,25))\n",
        "sns.heatmap(dataEscalada2.corr(), annot=True, ax=ax,cmap='Blues_r')\n",
        "ax.add_patch(plt.Rectangle((0,3),21,1, fill = False, edgecolor = 'orange', lw = 5))\n",
        "plt.xticks(rotation=45, ha='right')\n",
        "plt.yticks(rotation=45, ha='right')\n",
        "plt.show()"
      ],
      "execution_count": null,
      "outputs": []
    },
    {
      "cell_type": "code",
      "metadata": {
        "id": "QPfvl-egKu8w"
      },
      "source": [
        "# Correlation Heat Map Escalada\n",
        "fig, ax = plt.subplots(figsize=(25,25))\n",
        "sns.heatmap(dataEscalada.corr(), annot=True, ax=ax,cmap='Blues_r')\n",
        "ax.add_patch(plt.Rectangle((0,3),21,1, fill = False, edgecolor = 'orange', lw = 5))\n",
        "plt.xticks(rotation=45, ha='right')\n",
        "plt.yticks(rotation=45, ha='right')\n",
        "plt.show()"
      ],
      "execution_count": null,
      "outputs": []
    },
    {
      "cell_type": "code",
      "metadata": {
        "id": "h4Yw0qIRGApv"
      },
      "source": [
        "#Ver la correlacion de los atributos respecto a units_sold Normalizada\n",
        "target_col = 'units_sold'\n",
        "plt.figure(figsize=(3, 6))\n",
        "heatmap = sns.heatmap(dataNormalizada.corr()[['units_sold']].sort_values(by='units_sold', ascending=False),vmin=-1, vmax=1, annot=True, cmap='Blues_r')\n",
        "heatmap.set_title(f'Valores de correlación referente a units_sold', fontdict={'fontsize':13}, pad=10);"
      ],
      "execution_count": null,
      "outputs": []
    },
    {
      "cell_type": "code",
      "metadata": {
        "id": "4GB_Z6sMKyF1"
      },
      "source": [
        "#Ver la correlacion de los atributos respecto a units_sold Escalada\n",
        "target_col = 'units_sold'\n",
        "plt.figure(figsize=(3, 6))\n",
        "heatmap = sns.heatmap(dataEscalada.corr()[['units_sold']].sort_values(by='units_sold', ascending=False),vmin=-1, vmax=1, annot=True, cmap='Blues_r')\n",
        "heatmap.set_title(f'Valores de correlación referente a units_sold', fontdict={'fontsize':13}, pad=10);"
      ],
      "execution_count": null,
      "outputs": []
    },
    {
      "cell_type": "code",
      "metadata": {
        "id": "qzcsYjSYLsel"
      },
      "source": [
        "dataEscalada=dataEscalada.drop(['product_id'], axis=1)\n",
        "dataEscalad2=dataEscalada2.drop(['product_id'], axis=1)"
      ],
      "execution_count": null,
      "outputs": []
    },
    {
      "cell_type": "code",
      "metadata": {
        "id": "m3RZd6qyVNJv"
      },
      "source": [
        "dataEscalada.info()"
      ],
      "execution_count": null,
      "outputs": []
    },
    {
      "cell_type": "code",
      "metadata": {
        "id": "28XfuuehCkP-"
      },
      "source": [
        "dataNormalizada=dataNormalizada.drop(['product_id'], axis=1)\n"
      ],
      "execution_count": null,
      "outputs": []
    },
    {
      "cell_type": "code",
      "metadata": {
        "id": "CwnycBd3-94B"
      },
      "source": [
        "dataScaled=dataScaled.drop(['product_id'], axis=1)"
      ],
      "execution_count": null,
      "outputs": []
    },
    {
      "cell_type": "code",
      "metadata": {
        "id": "JMWlRJTR_PL2"
      },
      "source": [
        "dataScaled2=dataScaled2.drop(['product_id'], axis=1)"
      ],
      "execution_count": null,
      "outputs": []
    },
    {
      "cell_type": "code",
      "metadata": {
        "id": "hrhh1UFHPh4U"
      },
      "source": [
        "dataNormalizadaSin_UnitSold=dataNormalizadaSin_UnitSold.drop(['product_id'], axis=1)"
      ],
      "execution_count": null,
      "outputs": []
    },
    {
      "cell_type": "code",
      "metadata": {
        "id": "drAKHj7TK-4u",
        "colab": {
          "base_uri": "https://localhost:8080/"
        },
        "outputId": "1a16a25c-6331-46da-dcf9-7d2295f2a527"
      },
      "source": [
        "from sklearn.feature_selection import SelectKBest\n",
        "from sklearn.feature_selection import f_classif\n",
        "# Algoritmo univariante - Prueba F. (Reduccion de atributos)\n",
        "y = dataNormalizada['units_sold']\n",
        "X = dataNormalizada.drop(['units_sold'], axis=1)\n",
        "columnas = list(X.columns.values)\n",
        "seleccionar = SelectKBest(f_classif, k=20).fit(X,y)\n",
        "atributos = seleccionar.get_support()\n",
        "mejoresAtributos = [columnas[i] for i in list(atributos.nonzero()[0])]\n",
        "mejoresAtributos"
      ],
      "execution_count": null,
      "outputs": [
        {
          "output_type": "stream",
          "text": [
            "/usr/local/lib/python3.7/dist-packages/sklearn/feature_selection/_univariate_selection.py:110: RuntimeWarning: invalid value encountered in true_divide\n",
            "  msw = sswn / float(dfwn)\n"
          ],
          "name": "stderr"
        },
        {
          "output_type": "execute_result",
          "data": {
            "text/plain": [
              "['rating_count',\n",
              " 'badges_count',\n",
              " 'badge_local_product',\n",
              " 'badge_product_quality',\n",
              " 'badge_fast_shipping',\n",
              " 'tags',\n",
              " 'product_color',\n",
              " 'product_variation_size_id',\n",
              " 'product_variation_inventory',\n",
              " 'shipping_option_price',\n",
              " 'shipping_is_express',\n",
              " 'countries_shipped_to',\n",
              " 'inventory_total',\n",
              " 'has_urgency_banner',\n",
              " 'origin_country',\n",
              " 'merchant_title',\n",
              " 'merchant_info_subtitle',\n",
              " 'merchant_rating_count',\n",
              " 'merchant_rating',\n",
              " 'merchant_has_profile_picture']"
            ]
          },
          "metadata": {
            "tags": []
          },
          "execution_count": 164
        }
      ]
    },
    {
      "cell_type": "code",
      "metadata": {
        "id": "5T2s4qOBMNfW"
      },
      "source": [
        "dataEscalada.info()"
      ],
      "execution_count": null,
      "outputs": []
    },
    {
      "cell_type": "code",
      "metadata": {
        "id": "-jGY2O7rLNE0"
      },
      "source": [
        "#Eliminar atributos menos importantes\n",
        "dataEscalada.drop(['badge_local_product'], axis = 'columns', inplace=True)\n",
        "dataEscalada.drop(['badge_fast_shipping'], axis = 'columns', inplace=True)\n",
        "dataEscalada.drop(['shipping_is_express'], axis = 'columns', inplace=True)\n",
        "dataEscalada.drop('has_urgency_banner', axis=1, inplace=True)"
      ],
      "execution_count": null,
      "outputs": []
    },
    {
      "cell_type": "code",
      "metadata": {
        "id": "kztLqqyJ83Fy"
      },
      "source": [
        "#Eliminar atributos menos importantes\n",
        "dataEscalada2.drop(['badge_local_product'], axis = 'columns', inplace=True)\n",
        "dataEscalada2.drop(['badge_fast_shipping'], axis = 'columns', inplace=True)\n",
        "dataEscalada2.drop(['shipping_is_express'], axis = 'columns', inplace=True)\n",
        "dataEscalada2.drop('has_urgency_banner', axis=1, inplace=True)"
      ],
      "execution_count": null,
      "outputs": []
    },
    {
      "cell_type": "code",
      "metadata": {
        "id": "FwJLMRfVCqSL"
      },
      "source": [
        "#Eliminar atributos menos importantes\n",
        "dataNormalizada.drop(['badge_local_product'], axis = 'columns', inplace=True)\n",
        "dataNormalizada.drop(['badge_fast_shipping'], axis = 'columns', inplace=True)\n",
        "dataNormalizada.drop(['shipping_is_express'], axis = 'columns', inplace=True)\n",
        "dataNormalizada.drop('has_urgency_banner', axis=1, inplace=True)"
      ],
      "execution_count": null,
      "outputs": []
    },
    {
      "cell_type": "code",
      "metadata": {
        "id": "Iv_lFQqeVbK_"
      },
      "source": [
        "#Eliminar atributos menos importantes\n",
        "dataNormalizadaSin_UnitSold.drop(['badge_local_product'], axis = 'columns', inplace=True)\n",
        "dataNormalizadaSin_UnitSold.drop(['badge_fast_shipping'], axis = 'columns', inplace=True)\n",
        "dataNormalizadaSin_UnitSold.drop(['shipping_is_express'], axis = 'columns', inplace=True)\n",
        "dataNormalizadaSin_UnitSold.drop('has_urgency_banner', axis=1, inplace=True)"
      ],
      "execution_count": null,
      "outputs": []
    },
    {
      "cell_type": "code",
      "metadata": {
        "id": "mnJSzlXI_WMH"
      },
      "source": [
        "#Eliminar atributos menos importantes\n",
        "dataScaled.drop(['badge_local_product'], axis = 'columns', inplace=True)\n",
        "dataScaled.drop(['badge_fast_shipping'], axis = 'columns', inplace=True)\n",
        "dataScaled.drop(['shipping_is_express'], axis = 'columns', inplace=True)\n",
        "dataScaled.drop('has_urgency_banner', axis=1, inplace=True)"
      ],
      "execution_count": null,
      "outputs": []
    },
    {
      "cell_type": "code",
      "metadata": {
        "id": "L2z_ajmi_Xkh"
      },
      "source": [
        "#Eliminar atributos menos importantes\n",
        "dataScaled2.drop(['badge_local_product'], axis = 'columns', inplace=True)\n",
        "dataScaled2.drop(['badge_fast_shipping'], axis = 'columns', inplace=True)\n",
        "dataScaled2.drop(['shipping_is_express'], axis = 'columns', inplace=True)\n",
        "dataScaled2.drop('has_urgency_banner', axis=1, inplace=True)"
      ],
      "execution_count": null,
      "outputs": []
    },
    {
      "cell_type": "code",
      "metadata": {
        "colab": {
          "base_uri": "https://localhost:8080/"
        },
        "id": "Ui-1flE9N9FL",
        "outputId": "eccbba65-bcf3-435a-c49f-082dd34c7af3"
      },
      "source": [
        "#Aplicar PCA para reduccion de dimensionalidad\n",
        "pca = PCA()\n",
        "X_trainPCA = pca.fit_transform(dataNormalizada)\n",
        "X_testPCA = pca.transform(dataNormalizada)\n",
        "explained_variance = pca.explained_variance_ratio_.cumsum()\n",
        "print(explained_variance)"
      ],
      "execution_count": null,
      "outputs": [
        {
          "output_type": "stream",
          "text": [
            "[0.61261569 0.92858377 0.98407306 0.99055645 0.99620884 0.99779154\n",
            " 0.99881722 0.99947438 0.99986347 0.99991583 0.99995574 0.99997834\n",
            " 0.99999598 0.99999808 0.99999901 0.99999941 0.99999971 0.99999987\n",
            " 0.99999997 0.99999999 1.        ]\n"
          ],
          "name": "stdout"
        }
      ]
    },
    {
      "cell_type": "code",
      "metadata": {
        "colab": {
          "base_uri": "https://localhost:8080/",
          "height": 279
        },
        "id": "wW8kDVkJOWGc",
        "outputId": "2e99daf9-4203-4898-84ea-eb3745d6cbbb"
      },
      "source": [
        "#fig, ax= plt.subplot()\n",
        "plt.plot(explained_variance, marker='o')\n",
        "plt.ylabel(\"Varianza\")\n",
        "plt.xlabel(\"No. Componentes\")\n",
        "plt.grid()\n",
        "plt.show()"
      ],
      "execution_count": null,
      "outputs": [
        {
          "output_type": "display_data",
          "data": {
            "image/png": "[encoded data removed]",
            "text/plain": [
              "<Figure size 432x288 with 1 Axes>"
            ]
          },
          "metadata": {
            "tags": [],
            "needs_background": "light"
          }
        }
      ]
    },
    {
      "cell_type": "code",
      "metadata": {
        "id": "chC0YyYqOpMF"
      },
      "source": [
        "#Aplicamos la cantidad de componentes encontrados\n",
        "pca = PCA(n_components = 5)\n",
        "X_trainPCA = pca.fit_transform(dataNormalizada)"
      ],
      "execution_count": null,
      "outputs": []
    },
    {
      "cell_type": "code",
      "metadata": {
        "colab": {
          "base_uri": "https://localhost:8080/",
          "height": 312
        },
        "id": "bQMMpP9aOyc_",
        "outputId": "022d7f6e-ea84-4080-a8de-e031a40df674"
      },
      "source": [
        "# Método del Codo (Inercia)\n",
        "rangeCluster = range(2, 15)\n",
        "inercia = []\n",
        "for k in rangeCluster:\n",
        "    #modelKmeans = KMeans(n_clusters = k, n_init = 25, random_state=45).fit(dataWork[['units_sold']])X_trainPCA\n",
        "    modelKmeans = KMeans(n_clusters = k, n_init = 25, random_state=45).fit(dataNormalizada)\n",
        "    inercia.append(modelKmeans.inertia_)\n",
        "fig, ax = plt.subplots(1, 1)\n",
        "ax.plot(rangeCluster, inercia, marker='o')\n",
        "ax.set_title(\"Metodo del codo - Selección de k\")\n",
        "ax.grid()\n",
        "ax.set_xlabel('No. Clusters')\n",
        "ax.set_ylabel('Inercia')"
      ],
      "execution_count": null,
      "outputs": [
        {
          "output_type": "execute_result",
          "data": {
            "text/plain": [
              "Text(0, 0.5, 'Inercia')"
            ]
          },
          "metadata": {
            "tags": []
          },
          "execution_count": 170
        },
        {
          "output_type": "display_data",
          "data": {
            "image/png": "[encoded data removed]",
            "text/plain": [
              "<Figure size 432x288 with 1 Axes>"
            ]
          },
          "metadata": {
            "tags": [],
            "needs_background": "light"
          }
        }
      ]
    },
    {
      "cell_type": "code",
      "metadata": {
        "colab": {
          "base_uri": "https://localhost:8080/",
          "height": 295
        },
        "id": "AP8iXFyEO-nj",
        "outputId": "bef15d5b-4022-4229-a48c-40d20d1a671f"
      },
      "source": [
        "#Metodo del Codo (Score)\n",
        "rangeCluster = range(2, 15)\n",
        "kmeans = [KMeans(n_clusters=i, random_state=45) for i in rangeCluster]\n",
        "score = [kmeans[i].fit(dataNormalizada).score(dataNormalizada) for i in range(len(kmeans))]\n",
        "plt.plot(rangeCluster,score,marker='o')\n",
        "plt.grid()\n",
        "plt.xlabel('No. Clusters')\n",
        "plt.ylabel('Score')\n",
        "plt.title('Metodo del codo - Selección de k')\n",
        "plt.show()"
      ],
      "execution_count": null,
      "outputs": [
        {
          "output_type": "display_data",
          "data": {
            "image/png": "[encoded data removed]",
            "text/plain": [
              "<Figure size 432x288 with 1 Axes>"
            ]
          },
          "metadata": {
            "tags": [],
            "needs_background": "light"
          }
        }
      ]
    },
    {
      "cell_type": "code",
      "metadata": {
        "colab": {
          "base_uri": "https://localhost:8080/",
          "height": 295
        },
        "id": "JD2nwb_yPKyD",
        "outputId": "dc5c99d2-3946-40d3-a758-0711bae90bfa"
      },
      "source": [
        "#Metodo de la silueta\n",
        "rangeCluster = range(2, 15) \n",
        "valSilhouette = []\n",
        "\n",
        "for k in rangeCluster: \n",
        "  modelKmeans = KMeans( n_clusters = k, n_init = 25, random_state = 45 ) \n",
        "  labelsModel = modelKmeans.fit_predict(dataNormalizada) \n",
        "  silhouetteAVG = silhouette_score(dataNormalizada, labelsModel) \n",
        "  valSilhouette.append(silhouetteAVG)\n",
        "\n",
        "fig, ax = plt.subplots(1, 1) \n",
        "ax.plot(rangeCluster, valSilhouette, marker='o') \n",
        "ax.set_title(\"Metodo Silhouette - Selección de k\") \n",
        "ax.set_xlabel('No. Clusters') \n",
        "ax.grid()\n",
        "ax.set_ylabel('Media - Silhouette');"
      ],
      "execution_count": null,
      "outputs": [
        {
          "output_type": "display_data",
          "data": {
            "image/png": "[encoded data removed]",
            "text/plain": [
              "<Figure size 432x288 with 1 Axes>"
            ]
          },
          "metadata": {
            "tags": [],
            "needs_background": "light"
          }
        }
      ]
    },
    {
      "cell_type": "code",
      "metadata": {
        "colab": {
          "base_uri": "https://localhost:8080/"
        },
        "id": "V3OvUvq7PgCc",
        "outputId": "0160bdb8-1eec-48c5-ee06-8d5ce37afb41"
      },
      "source": [
        "#Algoritmo K-Means (K=6)\n",
        "AlgoritmoKmeans = KMeans(n_clusters=4,random_state=45).fit(dataNormalizada)\n",
        "centroidsKmeans = AlgoritmoKmeans.cluster_centers_\n",
        "print(centroidsKmeans)"
      ],
      "execution_count": null,
      "outputs": [
        {
          "output_type": "stream",
          "text": [
            "[[1.88752544e-03 4.11832390e-03 7.86232140e-01 9.35418416e-05\n",
            "  7.94176254e-04 1.31511927e-01 2.52303963e-05 1.94475073e-05\n",
            "  1.58816193e-03 9.44895141e-04 2.87353115e-04 7.54017429e-03\n",
            "  5.19809802e-04 7.83581782e-03 1.05617953e-02 7.30879530e-06\n",
            "  7.97121144e-02 1.71648851e-02 4.58608927e-01 3.33514907e-03\n",
            "  1.33765610e-05]\n",
            " [1.34611933e-03 3.83547806e-03 5.80334925e-02 6.34313705e-05\n",
            "  6.08053770e-04 1.55343680e-02 1.84169400e-05 1.26473108e-05\n",
            "  1.15718908e-03 6.26938540e-04 2.50456526e-04 4.97670034e-03\n",
            "  3.65770539e-04 6.52913426e-03 7.77173711e-03 3.89403624e-06\n",
            "  4.88136967e-02 1.28096011e-02 9.68217702e-01 2.15182324e-03\n",
            "  1.62637663e-05]\n",
            " [1.08206460e-02 3.33101662e-02 9.28509179e-02 5.19971410e-04\n",
            "  4.67152369e-03 2.03003126e-02 4.03257597e-05 2.29062435e-05\n",
            "  9.19204595e-03 4.87295271e-03 2.48994877e-03 2.80663478e-02\n",
            "  2.94393327e-03 4.73641221e-02 6.18251826e-02 1.64578655e-04\n",
            "  4.18424365e-01 1.02638359e-01 2.22879706e-01 2.34831135e-02\n",
            "  4.28329404e-06]\n",
            " [1.35760356e-03 3.41671986e-03 4.12341588e-01 7.54957923e-05\n",
            "  5.95664886e-04 8.74230469e-02 1.55408030e-05 1.01933495e-05\n",
            "  1.05247915e-03 7.53552589e-04 1.78397503e-04 5.26218045e-03\n",
            "  3.97840091e-04 6.35461480e-03 8.07278849e-03 7.96998657e-06\n",
            "  4.22036073e-02 1.30986114e-02 8.72418755e-01 2.08119039e-03\n",
            "  1.17232781e-05]]\n"
          ],
          "name": "stdout"
        }
      ]
    },
    {
      "cell_type": "code",
      "metadata": {
        "id": "6cEduqAdPqtN"
      },
      "source": [
        "labels = AlgoritmoKmeans.predict(dataNormalizada)\n",
        "dataGraficar2['label'] = labels"
      ],
      "execution_count": null,
      "outputs": []
    },
    {
      "cell_type": "code",
      "metadata": {
        "id": "NQGHd2PUQtsP"
      },
      "source": [
        "dataGraficar2.info()"
      ],
      "execution_count": null,
      "outputs": []
    },
    {
      "cell_type": "code",
      "metadata": {
        "colab": {
          "base_uri": "https://localhost:8080/"
        },
        "id": "o_a6DkHXXiCs",
        "outputId": "d9ba42ee-63f7-4847-e54e-a11277c7d5a4"
      },
      "source": [
        "#Saber cuantos registros\n",
        "cantGrupo=dataGraficar2['label'].value_counts() \n",
        "print(cantGrupo)"
      ],
      "execution_count": null,
      "outputs": [
        {
          "output_type": "stream",
          "text": [
            "1    645\n",
            "3    218\n",
            "0    184\n",
            "2    150\n",
            "Name: label, dtype: int64\n"
          ],
          "name": "stdout"
        }
      ]
    },
    {
      "cell_type": "code",
      "metadata": {
        "id": "ypOnGdoCAsLJ"
      },
      "source": [
        "#Saber cuantos registros\n",
        "cantGrupo=dataGraficar2['label'].value_counts() \n",
        "print(cantGrupo)"
      ],
      "execution_count": null,
      "outputs": []
    },
    {
      "cell_type": "code",
      "metadata": {
        "id": "323UOgCZURij"
      },
      "source": [
        "dataGraficar2.describe()"
      ],
      "execution_count": null,
      "outputs": []
    },
    {
      "cell_type": "code",
      "metadata": {
        "id": "3NXhegdbSzcO"
      },
      "source": [
        "dataGraficar2.groupby(['label','product_color']).count()"
      ],
      "execution_count": null,
      "outputs": []
    },
    {
      "cell_type": "code",
      "metadata": {
        "colab": {
          "base_uri": "https://localhost:8080/"
        },
        "id": "ix1XBCMJX9qK",
        "outputId": "564c5cb7-137e-454e-cd6a-22d74e78603c"
      },
      "source": [
        "dataGraficar2.label.value_counts()"
      ],
      "execution_count": null,
      "outputs": [
        {
          "output_type": "execute_result",
          "data": {
            "text/plain": [
              "1    596\n",
              "3    216\n",
              "0    186\n",
              "2     87\n",
              "4     73\n",
              "5     39\n",
              "Name: label, dtype: int64"
            ]
          },
          "metadata": {
            "tags": []
          },
          "execution_count": 101
        }
      ]
    },
    {
      "cell_type": "code",
      "metadata": {
        "colab": {
          "base_uri": "https://localhost:8080/"
        },
        "id": "xHp70O3chiX6",
        "outputId": "8886a5b3-2bae-4d39-f524-b3447f191c31"
      },
      "source": [
        "dataGraficar2.isnull().sum()[dataGraficar2.isnull().sum() !=0]"
      ],
      "execution_count": null,
      "outputs": [
        {
          "output_type": "execute_result",
          "data": {
            "text/plain": [
              "Series([], dtype: int64)"
            ]
          },
          "metadata": {
            "tags": []
          },
          "execution_count": 107
        }
      ]
    },
    {
      "cell_type": "code",
      "metadata": {
        "id": "2XsXB-tpko9U"
      },
      "source": [
        "dfg0=dataGraficar2[dataGraficar2.label==0]\n",
        "dfg1=dataGraficar2[dataGraficar2.label==1]\n",
        "dfg2=dataGraficar2[dataGraficar2.label==2]\n",
        "dfg3=dataGraficar2[dataGraficar2.label==3]\n",
        "dfg4=dataGraficar2[dataGraficar2.label==4]\n",
        "dfg5=dataGraficar2[dataGraficar2.label==5]"
      ],
      "execution_count": null,
      "outputs": []
    },
    {
      "cell_type": "code",
      "metadata": {
        "colab": {
          "base_uri": "https://localhost:8080/"
        },
        "id": "s00sn7C3lBn-",
        "outputId": "0797ce87-592b-4ea6-cee5-5cd662e5f232"
      },
      "source": [
        "print(dfg0.shape)\n",
        "print(dfg1.shape)\n",
        "print(dfg2.shape)\n",
        "print(dfg3.shape)\n",
        "print(dfg4.shape)\n",
        "print(dfg5.shape)"
      ],
      "execution_count": null,
      "outputs": [
        {
          "output_type": "stream",
          "text": [
            "(186, 27)\n",
            "(596, 27)\n",
            "(87, 27)\n",
            "(216, 27)\n",
            "(73, 27)\n",
            "(39, 27)\n"
          ],
          "name": "stdout"
        }
      ]
    },
    {
      "cell_type": "code",
      "metadata": {
        "colab": {
          "base_uri": "https://localhost:8080/",
          "height": 317
        },
        "id": "QMELghEilIHn",
        "outputId": "49178bb8-7b47-4ef7-db27-279e1fdcb950"
      },
      "source": [
        "dfg1.describe()"
      ],
      "execution_count": null,
      "outputs": [
        {
          "output_type": "execute_result",
          "data": {
            "text/html": [
              "<div>\n",
              "<style scoped>\n",
              "    .dataframe tbody tr th:only-of-type {\n",
              "        vertical-align: middle;\n",
              "    }\n",
              "\n",
              "    .dataframe tbody tr th {\n",
              "        vertical-align: top;\n",
              "    }\n",
              "\n",
              "    .dataframe thead th {\n",
              "        text-align: right;\n",
              "    }\n",
              "</style>\n",
              "<table border=\"1\" class=\"dataframe\">\n",
              "  <thead>\n",
              "    <tr style=\"text-align: right;\">\n",
              "      <th></th>\n",
              "      <th>product_id</th>\n",
              "      <th>price</th>\n",
              "      <th>retail_price</th>\n",
              "      <th>units_sold</th>\n",
              "      <th>uses_ad_boosts</th>\n",
              "      <th>rating</th>\n",
              "      <th>rating_count</th>\n",
              "      <th>badges_count</th>\n",
              "      <th>badge_local_product</th>\n",
              "      <th>badge_product_quality</th>\n",
              "      <th>badge_fast_shipping</th>\n",
              "      <th>product_variation_inventory</th>\n",
              "      <th>shipping_option_price</th>\n",
              "      <th>shipping_is_express</th>\n",
              "      <th>countries_shipped_to</th>\n",
              "      <th>inventory_total</th>\n",
              "      <th>has_urgency_banner</th>\n",
              "      <th>merchant_info_subtitle</th>\n",
              "      <th>merchant_rating_count</th>\n",
              "      <th>merchant_rating</th>\n",
              "      <th>merchant_has_profile_picture</th>\n",
              "      <th>label</th>\n",
              "    </tr>\n",
              "  </thead>\n",
              "  <tbody>\n",
              "    <tr>\n",
              "      <th>count</th>\n",
              "      <td>596.000000</td>\n",
              "      <td>596.000000</td>\n",
              "      <td>596.000000</td>\n",
              "      <td>596.000000</td>\n",
              "      <td>596.000000</td>\n",
              "      <td>596.000000</td>\n",
              "      <td>596.000000</td>\n",
              "      <td>596.000000</td>\n",
              "      <td>596.000000</td>\n",
              "      <td>596.000000</td>\n",
              "      <td>596.000000</td>\n",
              "      <td>596.000000</td>\n",
              "      <td>596.000000</td>\n",
              "      <td>596.000000</td>\n",
              "      <td>596.000000</td>\n",
              "      <td>596.000000</td>\n",
              "      <td>596.000000</td>\n",
              "      <td>596.000000</td>\n",
              "      <td>5.960000e+02</td>\n",
              "      <td>596.000000</td>\n",
              "      <td>596.000000</td>\n",
              "      <td>596.0</td>\n",
              "    </tr>\n",
              "    <tr>\n",
              "      <th>mean</th>\n",
              "      <td>779.505034</td>\n",
              "      <td>8.419899</td>\n",
              "      <td>26.055369</td>\n",
              "      <td>1975.317114</td>\n",
              "      <td>0.421141</td>\n",
              "      <td>3.796258</td>\n",
              "      <td>434.953020</td>\n",
              "      <td>0.087248</td>\n",
              "      <td>0.010067</td>\n",
              "      <td>0.065436</td>\n",
              "      <td>0.008389</td>\n",
              "      <td>33.657718</td>\n",
              "      <td>2.313758</td>\n",
              "      <td>0.003356</td>\n",
              "      <td>41.964765</td>\n",
              "      <td>49.666107</td>\n",
              "      <td>0.303691</td>\n",
              "      <td>82.435503</td>\n",
              "      <td>4.291696e+04</td>\n",
              "      <td>15.079933</td>\n",
              "      <td>0.209732</td>\n",
              "      <td>1.0</td>\n",
              "    </tr>\n",
              "    <tr>\n",
              "      <th>std</th>\n",
              "      <td>450.384245</td>\n",
              "      <td>4.046477</td>\n",
              "      <td>32.760736</td>\n",
              "      <td>4101.433375</td>\n",
              "      <td>0.494157</td>\n",
              "      <td>0.485213</td>\n",
              "      <td>932.294775</td>\n",
              "      <td>0.299756</td>\n",
              "      <td>0.099913</td>\n",
              "      <td>0.247502</td>\n",
              "      <td>0.091285</td>\n",
              "      <td>21.199737</td>\n",
              "      <td>1.056653</td>\n",
              "      <td>0.057880</td>\n",
              "      <td>18.344063</td>\n",
              "      <td>3.511938</td>\n",
              "      <td>0.460237</td>\n",
              "      <td>14.153181</td>\n",
              "      <td>1.108498e+05</td>\n",
              "      <td>16.761295</td>\n",
              "      <td>0.407459</td>\n",
              "      <td>0.0</td>\n",
              "    </tr>\n",
              "    <tr>\n",
              "      <th>min</th>\n",
              "      <td>4.000000</td>\n",
              "      <td>1.000000</td>\n",
              "      <td>2.000000</td>\n",
              "      <td>2.000000</td>\n",
              "      <td>0.000000</td>\n",
              "      <td>2.000000</td>\n",
              "      <td>0.000000</td>\n",
              "      <td>0.000000</td>\n",
              "      <td>0.000000</td>\n",
              "      <td>0.000000</td>\n",
              "      <td>0.000000</td>\n",
              "      <td>1.000000</td>\n",
              "      <td>1.000000</td>\n",
              "      <td>0.000000</td>\n",
              "      <td>9.000000</td>\n",
              "      <td>2.000000</td>\n",
              "      <td>0.000000</td>\n",
              "      <td>7.000000</td>\n",
              "      <td>2.950000e+02</td>\n",
              "      <td>0.380000</td>\n",
              "      <td>0.000000</td>\n",
              "      <td>1.0</td>\n",
              "    </tr>\n",
              "    <tr>\n",
              "      <th>25%</th>\n",
              "      <td>396.750000</td>\n",
              "      <td>5.822500</td>\n",
              "      <td>7.000000</td>\n",
              "      <td>100.000000</td>\n",
              "      <td>0.000000</td>\n",
              "      <td>3.510000</td>\n",
              "      <td>23.750000</td>\n",
              "      <td>0.000000</td>\n",
              "      <td>0.000000</td>\n",
              "      <td>0.000000</td>\n",
              "      <td>0.000000</td>\n",
              "      <td>7.000000</td>\n",
              "      <td>2.000000</td>\n",
              "      <td>0.000000</td>\n",
              "      <td>36.000000</td>\n",
              "      <td>50.000000</td>\n",
              "      <td>0.000000</td>\n",
              "      <td>82.280000</td>\n",
              "      <td>7.240500e+03</td>\n",
              "      <td>4.020000</td>\n",
              "      <td>0.000000</td>\n",
              "      <td>1.0</td>\n",
              "    </tr>\n",
              "    <tr>\n",
              "      <th>50%</th>\n",
              "      <td>778.500000</td>\n",
              "      <td>8.000000</td>\n",
              "      <td>11.000000</td>\n",
              "      <td>1000.000000</td>\n",
              "      <td>0.000000</td>\n",
              "      <td>3.850000</td>\n",
              "      <td>99.500000</td>\n",
              "      <td>0.000000</td>\n",
              "      <td>0.000000</td>\n",
              "      <td>0.000000</td>\n",
              "      <td>0.000000</td>\n",
              "      <td>50.000000</td>\n",
              "      <td>2.000000</td>\n",
              "      <td>0.000000</td>\n",
              "      <td>41.000000</td>\n",
              "      <td>50.000000</td>\n",
              "      <td>0.000000</td>\n",
              "      <td>84.500000</td>\n",
              "      <td>1.774500e+04</td>\n",
              "      <td>4.160000</td>\n",
              "      <td>0.000000</td>\n",
              "      <td>1.0</td>\n",
              "    </tr>\n",
              "    <tr>\n",
              "      <th>75%</th>\n",
              "      <td>1171.500000</td>\n",
              "      <td>11.000000</td>\n",
              "      <td>33.000000</td>\n",
              "      <td>1000.000000</td>\n",
              "      <td>1.000000</td>\n",
              "      <td>4.080000</td>\n",
              "      <td>512.750000</td>\n",
              "      <td>0.000000</td>\n",
              "      <td>0.000000</td>\n",
              "      <td>0.000000</td>\n",
              "      <td>0.000000</td>\n",
              "      <td>50.000000</td>\n",
              "      <td>3.000000</td>\n",
              "      <td>0.000000</td>\n",
              "      <td>43.000000</td>\n",
              "      <td>50.000000</td>\n",
              "      <td>1.000000</td>\n",
              "      <td>88.000000</td>\n",
              "      <td>4.310825e+04</td>\n",
              "      <td>38.702500</td>\n",
              "      <td>0.000000</td>\n",
              "      <td>1.0</td>\n",
              "    </tr>\n",
              "    <tr>\n",
              "      <th>max</th>\n",
              "      <td>1572.000000</td>\n",
              "      <td>49.000000</td>\n",
              "      <td>252.000000</td>\n",
              "      <td>50000.000000</td>\n",
              "      <td>1.000000</td>\n",
              "      <td>5.000000</td>\n",
              "      <td>10122.000000</td>\n",
              "      <td>2.000000</td>\n",
              "      <td>1.000000</td>\n",
              "      <td>1.000000</td>\n",
              "      <td>1.000000</td>\n",
              "      <td>50.000000</td>\n",
              "      <td>12.000000</td>\n",
              "      <td>1.000000</td>\n",
              "      <td>140.000000</td>\n",
              "      <td>50.000000</td>\n",
              "      <td>1.000000</td>\n",
              "      <td>96.000000</td>\n",
              "      <td>2.174765e+06</td>\n",
              "      <td>45.010000</td>\n",
              "      <td>1.000000</td>\n",
              "      <td>1.0</td>\n",
              "    </tr>\n",
              "  </tbody>\n",
              "</table>\n",
              "</div>"
            ],
            "text/plain": [
              "        product_id       price  ...  merchant_has_profile_picture  label\n",
              "count   596.000000  596.000000  ...                    596.000000  596.0\n",
              "mean    779.505034    8.419899  ...                      0.209732    1.0\n",
              "std     450.384245    4.046477  ...                      0.407459    0.0\n",
              "min       4.000000    1.000000  ...                      0.000000    1.0\n",
              "25%     396.750000    5.822500  ...                      0.000000    1.0\n",
              "50%     778.500000    8.000000  ...                      0.000000    1.0\n",
              "75%    1171.500000   11.000000  ...                      0.000000    1.0\n",
              "max    1572.000000   49.000000  ...                      1.000000    1.0\n",
              "\n",
              "[8 rows x 22 columns]"
            ]
          },
          "metadata": {
            "tags": []
          },
          "execution_count": 176
        }
      ]
    },
    {
      "cell_type": "code",
      "metadata": {
        "colab": {
          "base_uri": "https://localhost:8080/"
        },
        "id": "6Edng0RnmaoI",
        "outputId": "fd33e2da-e9d2-4fe5-92bb-88e16d012c44"
      },
      "source": [
        "dfg0.tags.value_counts()"
      ],
      "execution_count": null,
      "outputs": [
        {
          "output_type": "execute_result",
          "data": {
            "text/plain": [
              "dresses         41\n",
              "vest            23\n",
              "blouse          17\n",
              "swimsuit        15\n",
              "pants           13\n",
              "trousers        12\n",
              "slim            11\n",
              "t shirts        10\n",
              "shirt            7\n",
              "tops             5\n",
              "shorts           5\n",
              "bras             5\n",
              "underwear        4\n",
              "beach shorts     4\n",
              "skirts           4\n",
              "print dress      3\n",
              "dyes             2\n",
              "robes            2\n",
              "shoes            1\n",
              "bikini           1\n",
              "lace dress       1\n",
              "Name: tags, dtype: int64"
            ]
          },
          "metadata": {
            "tags": []
          },
          "execution_count": 130
        }
      ]
    },
    {
      "cell_type": "code",
      "metadata": {
        "colab": {
          "base_uri": "https://localhost:8080/"
        },
        "id": "3HeseRUclcN-",
        "outputId": "b8d30a91-acf8-45b0-a037-08f694fcfe9f"
      },
      "source": [
        "dfg1.tags.value_counts()"
      ],
      "execution_count": null,
      "outputs": [
        {
          "output_type": "execute_result",
          "data": {
            "text/plain": [
              "dresses         117\n",
              "slim             81\n",
              "vest             56\n",
              "blouse           49\n",
              "pants            42\n",
              "swimsuit         35\n",
              "t shirts         33\n",
              "shorts           25\n",
              "skirts           25\n",
              "trousers         25\n",
              "bras             18\n",
              "tops             18\n",
              "shirt            17\n",
              "lace dress       12\n",
              "dyes             10\n",
              "print dress      10\n",
              "robes             8\n",
              "beach shorts      6\n",
              "long skirt        4\n",
              "underwear         3\n",
              "bikini            2\n",
              "Name: tags, dtype: int64"
            ]
          },
          "metadata": {
            "tags": []
          },
          "execution_count": 126
        }
      ]
    },
    {
      "cell_type": "code",
      "metadata": {
        "colab": {
          "base_uri": "https://localhost:8080/"
        },
        "id": "yh06yMIghvmo",
        "outputId": "47e1cdf4-37c2-49db-dbc2-163e729f5ff4"
      },
      "source": [
        "dataGraficar2.shape"
      ],
      "execution_count": null,
      "outputs": [
        {
          "output_type": "execute_result",
          "data": {
            "text/plain": [
              "(1197, 27)"
            ]
          },
          "metadata": {
            "tags": []
          },
          "execution_count": 108
        }
      ]
    },
    {
      "cell_type": "code",
      "metadata": {
        "colab": {
          "base_uri": "https://localhost:8080/"
        },
        "id": "6hbIrkTzisOj",
        "outputId": "3e6a5ff8-d5dc-4d21-bdf5-74c02b93f29a"
      },
      "source": [
        "print(dataGraficar2['label'].head(10))"
      ],
      "execution_count": null,
      "outputs": [
        {
          "output_type": "stream",
          "text": [
            "315     1\n",
            "374     4\n",
            "296     3\n",
            "134     0\n",
            "970     0\n",
            "234     1\n",
            "957     0\n",
            "123     3\n",
            "388     3\n",
            "1049    1\n",
            "Name: label, dtype: int32\n"
          ],
          "name": "stdout"
        }
      ]
    },
    {
      "cell_type": "code",
      "metadata": {
        "id": "jHKKkMXgQBZX"
      },
      "source": [
        "#Definir datos a graficar.\n",
        "xPrint = dataGraficar2['rating'].values\n",
        "yPrint = dataGraficar2['units_sold'].values"
      ],
      "execution_count": null,
      "outputs": []
    },
    {
      "cell_type": "code",
      "metadata": {
        "colab": {
          "base_uri": "https://localhost:8080/",
          "height": 621
        },
        "id": "Zeuw_YmeQCEK",
        "outputId": "1f13326b-edc0-4f66-93fe-96366a00274c"
      },
      "source": [
        "#%% Plot k-means clustering.\n",
        "colores=['blue','orange','purple','cyan','yellow','orange','purple']\n",
        "asignar=[]\n",
        "for row in labels:\n",
        "     asignar.append(colores[row])\n",
        "plt.figure(figsize=(15,10))\n",
        "plt.scatter(xPrint, yPrint, c=asignar, s=10)\n",
        "#plt.scatter(centroids[:, 0], centroids[:, 1], marker='*', c='black', s=20) # Marco centroides.\n",
        "plt.xlabel('rating')\n",
        "plt.grid()\n",
        "plt.ylabel('units_sold')\n",
        "plt.title('Analisis') \n",
        "plt.show()"
      ],
      "execution_count": null,
      "outputs": [
        {
          "output_type": "display_data",
          "data": {
            "image/png": "[encoded data removed]",
            "text/plain": [
              "<Figure size 1080x720 with 1 Axes>"
            ]
          },
          "metadata": {
            "tags": [],
            "needs_background": "light"
          }
        }
      ]
    },
    {
      "cell_type": "code",
      "metadata": {
        "id": "tIsoB-6OZxjp"
      },
      "source": [
        "data.to_csv('datoLimpios.csv', index=False)\n",
        "# Configuración warnings\n",
        "# ==============================================================================\n",
        "import warnings\n",
        "warnings.filterwarnings('ignore')"
      ],
      "execution_count": null,
      "outputs": []
    }
  ]
}